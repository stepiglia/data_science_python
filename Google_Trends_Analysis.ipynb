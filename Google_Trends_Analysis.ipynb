{
  "nbformat": 4,
  "nbformat_minor": 0,
  "metadata": {
    "colab": {
      "name": "Google Trends Analysis.ipynb",
      "provenance": [],
      "authorship_tag": "ABX9TyOkoiioNxISgOySl0YBCgWr",
      "include_colab_link": true
    },
    "kernelspec": {
      "name": "python3",
      "display_name": "Python 3"
    }
  },
  "cells": [
    {
      "cell_type": "markdown",
      "metadata": {
        "id": "view-in-github",
        "colab_type": "text"
      },
      "source": [
        "<a href=\"https://colab.research.google.com/github/stepiglia/data_science_python/blob/main/Google_Trends_Analysis.ipynb\" target=\"_parent\"><img src=\"https://colab.research.google.com/assets/colab-badge.svg\" alt=\"Open In Colab\"/></a>"
      ]
    },
    {
      "cell_type": "markdown",
      "metadata": {
        "id": "rlXgSKoet1Hj"
      },
      "source": [
        "[Source article](https://searchengineland.com/learn-how-to-chart-and-track-google-trends-in-data-studio-using-python-329119) "
      ]
    },
    {
      "cell_type": "markdown",
      "metadata": {
        "id": "oHYmMEnIslvD"
      },
      "source": [
        "##Install PyTrends"
      ]
    },
    {
      "cell_type": "code",
      "metadata": {
        "id": "IMbBEO6ENWIt"
      },
      "source": [
        "pip install pytrends"
      ],
      "execution_count": null,
      "outputs": []
    },
    {
      "cell_type": "code",
      "metadata": {
        "id": "cyEOHuH8NaY-"
      },
      "source": [
        "import pytrends\n",
        "from pytrends.request import TrendReq\n",
        "import pandas as pd\n",
        "import time\n",
        "import datetime\n",
        "from datetime import datetime, date, time\n",
        "\n",
        "pytrend = TrendReq()"
      ],
      "execution_count": null,
      "outputs": []
    },
    {
      "cell_type": "markdown",
      "metadata": {
        "id": "TBKOUYU4tO8d"
      },
      "source": [
        "##Find suggested Keywords to add to the analysis"
      ]
    },
    {
      "cell_type": "code",
      "metadata": {
        "colab": {
          "base_uri": "https://localhost:8080/"
        },
        "id": "NlCYJHA-Ncth",
        "outputId": "58693856-d8c5-431b-970a-0f82b7176527"
      },
      "source": [
        "#return  suggested keywords and their ‘’types.’’\n",
        "print(pytrend.suggestions(keyword='migliori antifurto'), '\\n')\n",
        "print(pytrend.suggestions(keyword='assicurazione viaggio'), '\\n')"
      ],
      "execution_count": null,
      "outputs": [
        {
          "output_type": "stream",
          "text": [
            "[] \n",
            "\n",
            "[{'mid': '/m/08jvtd', 'title': 'Travel insurance', 'type': 'Insurance category'}, {'mid': '/g/11bc71341d', 'title': \"Holins - l'Assicurazione viaggio 100% Italiano\", 'type': 'Insurance agency in Turin, Italy'}] \n",
            "\n"
          ],
          "name": "stdout"
        }
      ]
    },
    {
      "cell_type": "markdown",
      "metadata": {
        "id": "RxvTfjJjuI3E"
      },
      "source": [
        "##Return related keywords"
      ]
    },
    {
      "cell_type": "code",
      "metadata": {
        "colab": {
          "base_uri": "https://localhost:8080/"
        },
        "id": "e5FksRLxNblj",
        "outputId": "9df50c67-513f-4c4b-ebe5-15ea86c59d97"
      },
      "source": [
        "#Can be really helpful in Google Ads, keyword research and content creation.\n",
        "#Remember that you can add a category after the timeframe as   , cat = 44\n",
        "pytrend.build_payload(kw_list=['antifurto'], geo = 'IT', timeframe = 'today 12-m') \n",
        "related_queries= pytrend.related_queries()\n",
        "print(related_queries)"
      ],
      "execution_count": null,
      "outputs": [
        {
          "output_type": "stream",
          "text": [
            "{'antifurto': {'top':                          query  value\n",
            "0               antifurto casa    100\n",
            "1               antifurto auto     93\n",
            "2                sim antifurto     42\n",
            "3               antifurto moto     30\n",
            "4            sim per antifurto     27\n",
            "5               antifurto bici     26\n",
            "6            bulloni antifurto     24\n",
            "7                 allarme casa     21\n",
            "8                antifurto 365     20\n",
            "9         antifurto senza fili     19\n",
            "10          impianto antifurto     16\n",
            "11          antifurto per auto     16\n",
            "12          antifurto wireless     14\n",
            "13            antifurto bentel     14\n",
            "14       antifurto perimetrale     13\n",
            "15             zaino antifurto     13\n",
            "16              ajax antifurto     12\n",
            "17   antifurto casa senza fili     11\n",
            "18          impianti antifurto     11\n",
            "19  antifurto satellitare auto     10\n",
            "20           squadra antifurto     10\n",
            "21       sim per antifurto tim      9\n",
            "22          antifurto verisure      9\n",
            "23           bullock antifurto      9\n",
            "24         antifurto meccanico      8, 'rising':                    query  value\n",
            "0         ajax antifurto    150\n",
            "1     squadra antitruffa    140\n",
            "2  antifurto monopattino     80\n",
            "3         antifurto bici     50\n",
            "4          antifurto 365     40}}\n"
          ],
          "name": "stdout"
        }
      ]
    },
    {
      "cell_type": "markdown",
      "metadata": {
        "id": "spgNRM_YurGS"
      },
      "source": [
        "##Final analysis with many Keywords (WIP, seems off as expected)"
      ]
    },
    {
      "cell_type": "code",
      "metadata": {
        "id": "uVA3sVpoNqyf"
      },
      "source": [
        "#Remember that you can also read keywords from a csv or excel file but make sure that its type must be a ‘’list.’’\n",
        "searches = ['prestito 10000 euro','prestiti online','migliori antifurto','migliori chirurghi plastici','migliori avvocati','assicurazione viaggio','migliori banche mutuo','antifurto casa','antifurto monopattino']\n",
        "\n",
        "groupkeywords = list(zip(*[iter(searches)]*1))\n",
        "groupkeywords = [list(x) for x in groupkeywords]\n",
        "\n",
        "dicti = {}\n",
        "i = 1\n",
        "for trending in groupkeywords:\n",
        "  pytrend.build_payload(trending, timeframe = 'today 12-m', geo = 'IT')\n",
        "  dicti[i] = pytrend.interest_over_time()\n",
        "  i+=1\n",
        "\n",
        "result = pd.concat(dicti, axis=1)\n",
        "result.columns = result.columns.droplevel(0)\n",
        "result = result.drop('isPartial', axis = 1)\n",
        "\n",
        "\n"
      ],
      "execution_count": null,
      "outputs": []
    },
    {
      "cell_type": "code",
      "metadata": {
        "id": "ubKYbc6opIEG"
      },
      "source": [
        "#Reshape in tabular form \n",
        "result.reset_index(level=0, inplace=True)\n",
        "result = pd.melt(result, id_vars='date', value_vars=searches)"
      ],
      "execution_count": null,
      "outputs": []
    },
    {
      "cell_type": "markdown",
      "metadata": {
        "id": "-99wYgqvemG8"
      },
      "source": [
        "## Compare 10 keywords"
      ]
    },
    {
      "cell_type": "code",
      "metadata": {
        "id": "N-V_WaqNepJk"
      },
      "source": [
        "#Import TrendReq to connect to Google\n",
        "from pytrends.request import TrendReq\n",
        "\n",
        "list1=['The office','Stranger Things','Friends', 'Riverdale','Game of Thrones']\n",
        "list2=['The office', 'Breaking Bad' ,'Money Heist','Peaky Blinders ,'Black Mirror']\n",
        "\n",
        "#Connect to Google \n",
        "pytrends1=TrendReq()\n",
        "pytrends2=TrendReq()\n",
        "\n",
        "#Parameters time and geo\n",
        "pytrends1.build_payload(list1,geo='US',timeframe=\"today 12-m\")\n",
        "pytrends2.build_payload(list2,geo='US',timeframe=\"today 12-m\")\n",
        "\n",
        "#using method interest_over_time to get the historical data\n",
        "df1=pytrends1.interest_over_time()\n",
        "df2=pytrends2.interest_over_time()"
      ],
      "execution_count": null,
      "outputs": []
    },
    {
      "cell_type": "code",
      "metadata": {
        "colab": {
          "base_uri": "https://localhost:8080/",
          "height": 230
        },
        "id": "yNs7zsAhfIWv",
        "outputId": "62fdc060-ddc6-476a-d48a-f7509dab8aab"
      },
      "source": [
        "#Normalizing List 2 using list 1 as reference \n",
        "averageList1=[]\n",
        "averageList2=[]\n",
        "for item in list1:\n",
        "    averageList1.append(df1[item].mean().round(0))\n",
        "for item in list2:\n",
        "    averageList2.append(df2[item].mean().round(0))"
      ],
      "execution_count": 1,
      "outputs": [
        {
          "output_type": "error",
          "ename": "NameError",
          "evalue": "ignored",
          "traceback": [
            "\u001b[0;31m---------------------------------------------------------------------------\u001b[0m",
            "\u001b[0;31mNameError\u001b[0m                                 Traceback (most recent call last)",
            "\u001b[0;32m<ipython-input-1-dc1fbca6d3ef>\u001b[0m in \u001b[0;36m<module>\u001b[0;34m()\u001b[0m\n\u001b[1;32m      2\u001b[0m \u001b[0maverageList1\u001b[0m\u001b[0;34m=\u001b[0m\u001b[0;34m[\u001b[0m\u001b[0;34m]\u001b[0m\u001b[0;34m\u001b[0m\u001b[0;34m\u001b[0m\u001b[0m\n\u001b[1;32m      3\u001b[0m \u001b[0maverageList2\u001b[0m\u001b[0;34m=\u001b[0m\u001b[0;34m[\u001b[0m\u001b[0;34m]\u001b[0m\u001b[0;34m\u001b[0m\u001b[0;34m\u001b[0m\u001b[0m\n\u001b[0;32m----> 4\u001b[0;31m \u001b[0;32mfor\u001b[0m \u001b[0mitem\u001b[0m \u001b[0;32min\u001b[0m \u001b[0mlist1\u001b[0m\u001b[0;34m:\u001b[0m\u001b[0;34m\u001b[0m\u001b[0;34m\u001b[0m\u001b[0m\n\u001b[0m\u001b[1;32m      5\u001b[0m     \u001b[0maverageList1\u001b[0m\u001b[0;34m.\u001b[0m\u001b[0mappend\u001b[0m\u001b[0;34m(\u001b[0m\u001b[0mdf1\u001b[0m\u001b[0;34m[\u001b[0m\u001b[0mitem\u001b[0m\u001b[0;34m]\u001b[0m\u001b[0;34m.\u001b[0m\u001b[0mmean\u001b[0m\u001b[0;34m(\u001b[0m\u001b[0;34m)\u001b[0m\u001b[0;34m.\u001b[0m\u001b[0mround\u001b[0m\u001b[0;34m(\u001b[0m\u001b[0;36m0\u001b[0m\u001b[0;34m)\u001b[0m\u001b[0;34m)\u001b[0m\u001b[0;34m\u001b[0m\u001b[0;34m\u001b[0m\u001b[0m\n\u001b[1;32m      6\u001b[0m \u001b[0;32mfor\u001b[0m \u001b[0mitem\u001b[0m \u001b[0;32min\u001b[0m \u001b[0mlist2\u001b[0m\u001b[0;34m:\u001b[0m\u001b[0;34m\u001b[0m\u001b[0;34m\u001b[0m\u001b[0m\n",
            "\u001b[0;31mNameError\u001b[0m: name 'list1' is not defined"
          ]
        }
      ]
    },
    {
      "cell_type": "code",
      "metadata": {
        "id": "A6kRNh8AfPkk"
      },
      "source": [
        "#Calculate the normalization factor (i.e. Normalization factor= (average of common TV Series in list 1)/average of common TV Series in list 2)\n",
        "normalizationFactor=averageList1[0]/averageList2[0] #the common value is at index 0 in both lists "
      ],
      "execution_count": null,
      "outputs": []
    },
    {
      "cell_type": "code",
      "metadata": {
        "id": "fcUmN-ATfg7P"
      },
      "source": [
        "#We equalize the averages in list 2 \n",
        "for i in range(len(averageList2)):\n",
        "    normalisedVal=normalizationFactor*averageList2[i]\n",
        "    averageList2[i]=normalisedVal.round(0)\n",
        "\n",
        "#The two lists are now scaled at the same scale     "
      ],
      "execution_count": null,
      "outputs": []
    },
    {
      "cell_type": "code",
      "metadata": {
        "id": "J4j4x4_nfodq"
      },
      "source": [
        "#Remove the now duplicate common list \n",
        "averageList2.pop(0)\n",
        "list2.pop(0)"
      ],
      "execution_count": null,
      "outputs": []
    },
    {
      "cell_type": "code",
      "metadata": {
        "id": "-wRJ9aOlfxwh"
      },
      "source": [
        "#We combine the useful results \n",
        "TVSeriesList=list1+list2 #List of TV series \n",
        "finalAverageList=averageList1+averageList2 #List of average values "
      ],
      "execution_count": null,
      "outputs": []
    },
    {
      "cell_type": "code",
      "metadata": {
        "id": "3l0ye9Smf3wZ"
      },
      "source": [
        "#We plot \n",
        "import numpy as np\n",
        "import matplotlib.pyplot as plt\n",
        "y_pos=np.arange(len(TVSeriesList))\n",
        "plt.barh(y_pos,finalAverageList,align='center',alpha=0.5)\n",
        "plt.yticks(y_pos,TVSeriesList)\n",
        "plt.xlabel('Average popularity')\n",
        "plt.show()"
      ],
      "execution_count": null,
      "outputs": []
    },
    {
      "cell_type": "markdown",
      "metadata": {
        "id": "a7Gr2q-hvAKA"
      },
      "source": [
        "##Export to Google Sheet"
      ]
    },
    {
      "cell_type": "code",
      "metadata": {
        "id": "VloyHx7avi1b"
      },
      "source": [
        "#!pip install --upgrade gspread"
      ],
      "execution_count": null,
      "outputs": []
    },
    {
      "cell_type": "code",
      "metadata": {
        "id": "vaG6pvoPvi1b"
      },
      "source": [
        "\"\"\"from google.colab import auth\n",
        "auth.authenticate_user()\n",
        "\n",
        "import gspread\n",
        "from oauth2client.client import GoogleCredentials\n",
        "\n",
        "gc = gspread.authorize(GoogleCredentials.get_application_default())\n",
        "#Documentation for gspread: https://gspread.readthedocs.io/en/latest/user-guide.html#opening-a-spreadsheet\n",
        "\"\"\"\n"
      ],
      "execution_count": null,
      "outputs": []
    },
    {
      "cell_type": "code",
      "metadata": {
        "id": "DDutJwoL2Z5t"
      },
      "source": [
        "#result.head()\n",
        "result[\"date\"] = result[\"date\"].astype(str)\n",
        "result.head()"
      ],
      "execution_count": null,
      "outputs": []
    },
    {
      "cell_type": "code",
      "metadata": {
        "id": "abTejS9fwRgU"
      },
      "source": [
        "#If starting from scratch: \"\"\" sh = gc.create('A new spreadsheet')\n",
        "sh = gc.open('Trends analysis for data studio')\n",
        "worksheet = sh.worksheet(\"RAW\")\n",
        "\n",
        "worksheet.update([result.columns.values.tolist()] + result.values.tolist())"
      ],
      "execution_count": null,
      "outputs": []
    }
  ]
}